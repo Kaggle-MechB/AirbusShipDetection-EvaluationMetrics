{
 "cells": [
  {
   "cell_type": "code",
   "execution_count": 1,
   "metadata": {
    "collapsed": false
   },
   "outputs": [],
   "source": [
    "import numpy as np\n",
    "import cv2\n",
    "from matplotlib import pyplot as plt\n",
    "import pandas as pd\n",
    "import slack_notification as sn"
   ]
  },
  {
   "cell_type": "code",
   "execution_count": 2,
   "metadata": {
    "collapsed": true
   },
   "outputs": [],
   "source": [
    "%matplotlib inline"
   ]
  },
  {
   "cell_type": "code",
   "execution_count": 3,
   "metadata": {
    "collapsed": true
   },
   "outputs": [],
   "source": [
    "gen_img = cv2.imread(\"./val/label/0a0119288.jpg\", 0)\n",
    "_, gen_img = cv2.threshold(gen_img, 127, 1, cv2.THRESH_BINARY)"
   ]
  },
  {
   "cell_type": "code",
   "execution_count": 80,
   "metadata": {
    "collapsed": true
   },
   "outputs": [],
   "source": [
    "_, contours, _ = cv2.findContours(gen_img, cv2.RETR_TREE,cv2.CHAIN_APPROX_SIMPLE)"
   ]
  },
  {
   "cell_type": "code",
   "execution_count": 81,
   "metadata": {
    "collapsed": false
   },
   "outputs": [],
   "source": [
    "img0 = np.zeros_like(gen_img)"
   ]
  },
  {
   "cell_type": "code",
   "execution_count": 82,
   "metadata": {
    "collapsed": true
   },
   "outputs": [],
   "source": [
    "img = cv2.drawContours(img0, contours, -1, 1, cv2.CHAIN_APPROX_SIMPLE)"
   ]
  },
  {
   "cell_type": "code",
   "execution_count": 83,
   "metadata": {
    "collapsed": false
   },
   "outputs": [
    {
     "data": {
      "text/plain": [
       "<matplotlib.image.AxesImage at 0x122ffa198>"
      ]
     },
     "execution_count": 83,
     "metadata": {},
     "output_type": "execute_result"
    },
    {
     "data": {
      "image/png": "[encoded data removed]",
      "text/plain": [
       "<matplotlib.figure.Figure at 0x11db5d828>"
      ]
     },
     "metadata": {},
     "output_type": "display_data"
    }
   ],
   "source": [
    "plt.imshow(img)"
   ]
  },
  {
   "cell_type": "code",
   "execution_count": 84,
   "metadata": {
    "collapsed": false
   },
   "outputs": [
    {
     "data": {
      "text/plain": [
       "1"
      ]
     },
     "execution_count": 84,
     "metadata": {},
     "output_type": "execute_result"
    }
   ],
   "source": [
    "np.max(gen_img)"
   ]
  },
  {
   "cell_type": "code",
   "execution_count": 4,
   "metadata": {
    "collapsed": true
   },
   "outputs": [],
   "source": [
    "def  approximate_img(_img, eps):\n",
    "    _img = np.array(_img, dtype='uint8')\n",
    "    _, contours, _ = cv2.findContours(_img, cv2.RETR_TREE,cv2.CHAIN_APPROX_SIMPLE)\n",
    "    result_img = np.zeros_like(_img)\n",
    "    for cnt in contours:\n",
    "        epsilon = eps*cv2.arcLength(cnt,True)\n",
    "        approx = cv2.approxPolyDP(cnt,epsilon,True)\n",
    "        result_img = cv2.fillConvexPoly(result_img, approx, 1)\n",
    "    return result_img"
   ]
  },
  {
   "cell_type": "code",
   "execution_count": 91,
   "metadata": {
    "collapsed": false
   },
   "outputs": [
    {
     "data": {
      "text/plain": [
       "<matplotlib.image.AxesImage at 0x11da62780>"
      ]
     },
     "execution_count": 91,
     "metadata": {},
     "output_type": "execute_result"
    },
    {
     "data": {
      "image/png": "[encoded data removed]",
      "text/plain": [
       "<matplotlib.figure.Figure at 0x11dcf6b00>"
      ]
     },
     "metadata": {},
     "output_type": "display_data"
    }
   ],
   "source": [
    "plt.imshow(approximate_img(gen_img, 0.03))"
   ]
  },
  {
   "cell_type": "code",
   "execution_count": 5,
   "metadata": {
    "collapsed": true
   },
   "outputs": [],
   "source": [
    "def  approximate_img2(_img):\n",
    "    _img = np.array(_img, dtype='uint8')\n",
    "    _, contours, _ = cv2.findContours(_img, cv2.RETR_TREE,cv2.CHAIN_APPROX_SIMPLE)\n",
    "    result_img = np.zeros_like(_img)\n",
    "    for cnt in contours:\n",
    "        rect = cv2.minAreaRect(cnt)\n",
    "        box = cv2.boxPoints(rect)\n",
    "        box = np.int0(box)\n",
    "        result_img = cv2.fillConvexPoly(result_img, box, 1)\n",
    "    return result_img"
   ]
  },
  {
   "cell_type": "code",
   "execution_count": 88,
   "metadata": {
    "collapsed": false
   },
   "outputs": [
    {
     "data": {
      "text/plain": [
       "<matplotlib.image.AxesImage at 0x11eed9cc0>"
      ]
     },
     "execution_count": 88,
     "metadata": {},
     "output_type": "execute_result"
    },
    {
     "data": {
      "image/png": "[encoded data removed]",
      "text/plain": [
       "<matplotlib.figure.Figure at 0x11d591b00>"
      ]
     },
     "metadata": {},
     "output_type": "display_data"
    }
   ],
   "source": [
    "plt.imshow(approximate_img2(gen_img))"
   ]
  },
  {
   "cell_type": "code",
   "execution_count": 3,
   "metadata": {
    "collapsed": true
   },
   "outputs": [],
   "source": [
    "# ref: https://www.kaggle.com/paulorzp/run-length-encode-and-decode\n",
    "\"\"\"\n",
    "ランレングス記法のデータを白黒画像に直す\n",
    "\"\"\"\n",
    "def rle_decode(mask_rle, shape=(768, 768)):\n",
    "    '''\n",
    "    mask_rle: run-length as string formated (start length)\n",
    "    shape: (height,width) of array to return \n",
    "    Returns numpy array, 1 - mask, 0 - background\n",
    "\n",
    "    '''\n",
    "    #nan check\n",
    "    if mask_rle != mask_rle:\n",
    "        img = np.zeros(shape[0]*shape[1], dtype=np.uint8)\n",
    "        return img.reshape(shape).T\n",
    "    \n",
    "    s = mask_rle.split()\n",
    "    starts, lengths = [np.asarray(x, dtype=int) for x in (s[0:][::2], s[1:][::2])]\n",
    "    starts -= 1\n",
    "    ends = starts + lengths\n",
    "    img = np.zeros(shape[0]*shape[1], dtype=np.uint8)\n",
    "    for lo, hi in zip(starts, ends):\n",
    "        img[lo:hi] = 1\n",
    "    return img.reshape(shape).T  # Needed to align to RLE direction"
   ]
  },
  {
   "cell_type": "code",
   "execution_count": 4,
   "metadata": {
    "collapsed": true
   },
   "outputs": [],
   "source": [
    "def rle_encode(img):\n",
    "    '''\n",
    "    img: numpy array, 1 - mask, 0 - background\n",
    "    Returns run length as string formated\n",
    "    '''\n",
    "    pixels = img.flatten()\n",
    "    pixels = np.concatenate([[0], pixels, [0]])\n",
    "    runs = np.where(pixels[1:] != pixels[:-1])[0] + 1\n",
    "    runs[1::2] -= runs[::2]\n",
    "    return ' '.join(str(x) for x in runs)"
   ]
  },
  {
   "cell_type": "code",
   "execution_count": 9,
   "metadata": {
    "collapsed": false
   },
   "outputs": [],
   "source": [
    "df = pd.read_csv(\"./csv/submission_0813_1.csv\")"
   ]
  },
  {
   "cell_type": "code",
   "execution_count": 93,
   "metadata": {
    "collapsed": true
   },
   "outputs": [],
   "source": [
    "def make_new_csv():\n",
    "    index = 0\n",
    "    df_dst = pd.DataFrame({'ImageId': [], 'EncodedPixels1': [], 'EncodedPixels2': [], 'EncodedPixels3': []})\n",
    "    df_dst = df_dst[['ImageId', 'EncodedPixels1', 'EncodedPixels2', 'EncodedPixels3']]\n",
    "    for i in range(len(df)):\n",
    "        encoded = df['EncodedPixels'][i]\n",
    "        if encoded == encoded:\n",
    "            mask_img = rle_decode(encoded)\n",
    "            _, mask_img = cv2.threshold(mask_img, 0.5, 1, cv2.THRESH_BINARY)\n",
    "            result_img1 = approximate_img(mask_img, 0.021)\n",
    "            result_img2 = approximate_img2(mask_img)\n",
    "            result_img3 = approximate_img(mask_img, 0.026)\n",
    "            rl1 = rle_encode(result_img1)\n",
    "            rl2 = rle_encode(result_img2)\n",
    "            rl3 = rle_encode(result_img3)\n",
    "            df_dst.loc[index] = [df['ImageId'][i], rl1, rl2, rl3]\n",
    "            index += 1\n",
    "        else:\n",
    "            df_dst.loc[index] = [df['ImageId'][i], \"\", \"\", \"\"]\n",
    "            index += 1\n",
    "        if i % 5000 == 0:\n",
    "            print(i)\n",
    "            sn.send_notification(text='convert: {}'.format(i))\n",
    "            df_dst.to_csv('submission_0811_1.csv', header=True, index=False, columns=['ImageId', 'EncodedPixels1'])\n",
    "            df_dst.to_csv('submission_0811_2.csv', header=True, index=False, columns=['ImageId', 'EncodedPixels2'])\n",
    "            df_dst.to_csv('submission_0811_3.csv', header=True, index=False, columns=['ImageId', 'EncodedPixels3'])\n",
    "    sn.send_notification(text='complete')\n",
    "    df_dst.to_csv('submission_0811_1.csv', header=True, index=False, columns=['ImageId', 'EncodedPixels1'])\n",
    "    df_dst.to_csv('submission_0811_2.csv', header=True, index=False, columns=['ImageId', 'EncodedPixels2'])\n",
    "    df_dst.to_csv('submission_0811_3.csv', header=True, index=False, columns=['ImageId', 'EncodedPixels3'])"
   ]
  },
  {
   "cell_type": "code",
   "execution_count": 94,
   "metadata": {
    "collapsed": false
   },
   "outputs": [
    {
     "name": "stdout",
     "output_type": "stream",
     "text": [
      "0\n",
      "5000\n",
      "10000\n",
      "15000\n",
      "20000\n",
      "25000\n",
      "30000\n",
      "35000\n",
      "40000\n",
      "45000\n",
      "50000\n",
      "55000\n",
      "60000\n",
      "65000\n",
      "70000\n",
      "75000\n",
      "80000\n",
      "85000\n"
     ]
    }
   ],
   "source": [
    "make_new_csv()"
   ]
  },
  {
   "cell_type": "code",
   "execution_count": 5,
   "metadata": {
    "collapsed": true
   },
   "outputs": [],
   "source": [
    "df = pd.read_csv(\"./csv/submission_0813_2.csv\")"
   ]
  },
  {
   "cell_type": "code",
   "execution_count": 6,
   "metadata": {
    "collapsed": true
   },
   "outputs": [],
   "source": [
    "def make_separate_csv():\n",
    "    index = 0\n",
    "    df_dst = pd.DataFrame({'ImageId': [], 'EncodedPixels': []})\n",
    "    df_dst = df_dst[['ImageId', 'EncodedPixels']]\n",
    "    for i in range(len(df)):\n",
    "        encoded = df['EncodedPixels'][i]\n",
    "        if encoded == encoded:\n",
    "            mask_img = rle_decode(encoded)\n",
    "            labels_num, labeled_img = cv2.connectedComponents(mask_img)\n",
    "            for j in range(1, labels_num):\n",
    "                separate = np.zeros((768, 768))\n",
    "                separate[labeled_img == j] = 1\n",
    "                rl = rle_encode(separate)\n",
    "                df_dst.loc[index] = [df['ImageId'][i], rl]\n",
    "                index += 1\n",
    "        else:\n",
    "            df_dst.loc[index] = [df['ImageId'][i], \"\"]\n",
    "            index += 1\n",
    "        if i % 5000 == 0:\n",
    "            print(i)\n",
    "            sn.send_notification(text='convert: {}'.format(i))\n",
    "            df_dst.to_csv('./csv/submission_0813_2_separate.csv', header=True, index=False)\n",
    "    sn.send_notification(text=\"complete\")\n",
    "    df_dst.to_csv('./csv/submission_0813_2_separate.csv', header=True, index=False)"
   ]
  },
  {
   "cell_type": "code",
   "execution_count": null,
   "metadata": {
    "collapsed": false
   },
   "outputs": [
    {
     "name": "stdout",
     "output_type": "stream",
     "text": [
      "0\n",
      "5000\n",
      "10000\n"
     ]
    }
   ],
   "source": [
    "make_separate_csv()"
   ]
  },
  {
   "cell_type": "code",
   "execution_count": null,
   "metadata": {
    "collapsed": true
   },
   "outputs": [],
   "source": []
  }
 ],
 "metadata": {
  "kernelspec": {
   "display_name": "Python 3",
   "language": "python",
   "name": "python3"
  },
  "language_info": {
   "codemirror_mode": {
    "name": "ipython",
    "version": 3
   },
   "file_extension": ".py",
   "mimetype": "text/x-python",
   "name": "python",
   "nbconvert_exporter": "python",
   "pygments_lexer": "ipython3",
   "version": "3.6.0"
  }
 },
 "nbformat": 4,
 "nbformat_minor": 2
}
